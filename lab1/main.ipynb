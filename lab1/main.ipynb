{
 "cells": [
  {
   "cell_type": "code",
   "execution_count": 13,
   "id": "20e4d1ea",
   "metadata": {},
   "outputs": [],
   "source": [
    "import pandas as pd\n",
    "import numpy as np\n",
    "import matplotlib.pyplot as plt\n",
    "import seaborn as sns\n",
    "\n",
    "from sklearn.model_selection import train_test_split\n",
    "from sklearn.preprocessing import StandardScaler\n",
    "from sklearn.linear_model import LinearRegression\n",
    "from sklearn.svm import SVC\n",
    "from sklearn.metrics import mean_squared_error, r2_score, classification_report, confusion_matrix, accuracy_score"
   ]
  },
  {
   "cell_type": "code",
   "execution_count": 17,
   "id": "6b5b30d6",
   "metadata": {},
   "outputs": [
    {
     "name": "stdout",
     "output_type": "stream",
     "text": [
      "Braki danych: 0\n"
     ]
    }
   ],
   "source": [
    "# Wczytaj dane\n",
    "df = pd.read_csv('pd_speech_features.csv')\n",
    "\n",
    "# Usuwamy kolumnę ID jeśli występuje\n",
    "if 'id' in df.columns:\n",
    "    df = df.drop('id', axis=1)\n",
    "\n",
    "print(\"Braki danych:\", df.isnull().sum().sum())"
   ]
  },
  {
   "cell_type": "code",
   "execution_count": 15,
   "id": "5f0a085b",
   "metadata": {},
   "outputs": [
    {
     "name": "stdout",
     "output_type": "stream",
     "text": [
      "Regresja liniowa:\n",
      "MSE: 2.175359671385058\n",
      "R2: -64.18170384169431\n"
     ]
    }
   ],
   "source": [
    "# --- REGRESJA LINIOWA ---\n",
    "# Przewidujemy wartość PPE na podstawie pozostałych cech (bez 'class' i 'PPE')\n",
    "y_reg = df['PPE']\n",
    "X_reg = df.drop(['class', 'PPE'], axis=1)\n",
    "\n",
    "X_reg_train, X_reg_test, y_reg_train, y_reg_test = train_test_split(\n",
    "    X_reg, y_reg, test_size=0.2, random_state=42\n",
    ")\n",
    "\n",
    "reg = LinearRegression()\n",
    "reg.fit(X_reg_train, y_reg_train)\n",
    "y_reg_pred = reg.predict(X_reg_test)\n",
    "\n",
    "print(\"Regresja liniowa:\")\n",
    "print(\"MSE:\", mean_squared_error(y_reg_test, y_reg_pred))\n",
    "print(\"R2:\", r2_score(y_reg_test, y_reg_pred))\n"
   ]
  },
  {
   "cell_type": "code",
   "execution_count": null,
   "id": "edb3e9ec",
   "metadata": {},
   "outputs": [
    {
     "name": "stdout",
     "output_type": "stream",
     "text": [
      "\n",
      "Klasyfikacja SVM:\n",
      "Accuracy: 0.8223684210526315\n",
      "              precision    recall  f1-score   support\n",
      "\n",
      "           0       0.80      0.41      0.54        39\n",
      "           1       0.83      0.96      0.89       113\n",
      "\n",
      "    accuracy                           0.82       152\n",
      "   macro avg       0.81      0.69      0.72       152\n",
      "weighted avg       0.82      0.82      0.80       152\n",
      "\n"
     ]
    },
    {
     "data": {
      "image/png": "[encoded data removed]",
      "text/plain": [
       "<Figure size 600x600 with 2 Axes>"
      ]
     },
     "metadata": {},
     "output_type": "display_data"
    }
   ],
   "source": [
    "# --- KLASYFIKACJA BINARNA SVM ---\n",
    "# Przygotowanie danych\n",
    "X = df.drop('class', axis=1)\n",
    "y = df['class']\n",
    "\n",
    "scaler = StandardScaler()\n",
    "X_scaled = scaler.fit_transform(X)\n",
    "\n",
    "X_train, X_test, y_train, y_test = train_test_split(\n",
    "    X_scaled, y, test_size=0.2, random_state=42, stratify=y\n",
    ")\n",
    "\n",
    "svm = SVC(kernel='rbf', random_state=42)\n",
    "svm.fit(X_train, y_train)\n",
    "y_svm_pred = svm.predict(X_test)\n",
    "\n",
    "print(\"\\nKlasyfikacja SVM:\")\n",
    "print(\"Accuracy:\", accuracy_score(y_test, y_svm_pred))\n",
    "print(classification_report(y_test, y_svm_pred))\n",
    "\n",
    "plt.figure(figsize=(6,6))\n",
    "sns.heatmap(confusion_matrix(y_test, y_svm_pred), annot=True, fmt='d', cmap='Greens')\n",
    "plt.xlabel('Predicted')\n",
    "plt.ylabel('True')\n",
    "plt.title('Confusion Matrix (SVM)')\n",
    "plt.show()"
   ]
  }
 ],
 "metadata": {
  "kernelspec": {
   "display_name": "Python 3",
   "language": "python",
   "name": "python3"
  },
  "language_info": {
   "codemirror_mode": {
    "name": "ipython",
    "version": 3
   },
   "file_extension": ".py",
   "mimetype": "text/x-python",
   "name": "python",
   "nbconvert_exporter": "python",
   "pygments_lexer": "ipython3",
   "version": "3.10.0"
  }
 },
 "nbformat": 4,
 "nbformat_minor": 5
}
